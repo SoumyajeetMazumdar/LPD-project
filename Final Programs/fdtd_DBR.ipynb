{
 "cells": [
  {
   "cell_type": "code",
   "execution_count": 41,
   "metadata": {},
   "outputs": [],
   "source": [
    "# Use of SOFT-SOURCE here\n",
    "\n",
    "import numpy as np, matplotlib.pyplot as plt\n",
    "from matplotlib.backends.backend_pdf import PdfPages\n",
    "\n",
    "# defining the simulation volume\n",
    "nm = 1e-9\n",
    "size = 10000*nm\n",
    "dz = 10*nm\n",
    "Nz = (int) (size//dz)\n",
    "Nt = 5000\n",
    "\n",
    "# constants\n",
    "# epsilon_r = 1 #vacuum\n",
    "epsilon_0 = 8.85e-12 #free space permittivity\n",
    "c0 = 3e8\n",
    "sigma = 0 #non-conductive media being considered\n",
    "\n",
    "# time step via Courant condition\n",
    "dt = dz/(2*c0) \n",
    "\n",
    "# initialising E and B throughout the space grid as 0\n",
    "E = np.zeros(Nz)\n",
    "B = np.zeros(Nz)\n",
    "\n",
    "Lambda = 800*nm #Ti-Sa laser being considered\n",
    "omega = 2*np.pi*c0/Lambda # frequency\n",
    "\n",
    "source_pos = 200\n",
    "E0 = 1"
   ]
  },
  {
   "cell_type": "code",
   "execution_count": 42,
   "metadata": {},
   "outputs": [],
   "source": [
    "# defining the glass slab - change of definition of the epsilon_r from constant to array\n",
    "epsilon_r = np.ones(Nz) # vaccuum space\n",
    "\n",
    "slabs_start = 300\n",
    "N_pairs = 20\n",
    "\n",
    "k_start = slabs_start\n",
    "for N in range (1, N_pairs+1):\n",
    "    epsilon_r[k_start:k_start+8] = 2.5**2 # TiO2 \n",
    "    epsilon_r[k_start+8:k_start+21] = 1.5**2 # SiO2\n",
    "    # thicknesses obtained from the calculation of DBR mathematics \n",
    "    k_start+=21\n",
    "    "
   ]
  },
  {
   "cell_type": "code",
   "execution_count": 43,
   "metadata": {},
   "outputs": [],
   "source": [
    "# Obtaining a comparison between of the Amplitude of reflected and transmitted parts\n",
    "\n",
    "\n",
    "\n",
    "# variables to capture the time trace of amplitudes\n",
    "ref_probe = 100\n",
    "trans_probe = 900\n",
    "E_ref_probe = np.zeros(Nt)\n",
    "E_trans_probe = np.zeros(Nt)\n",
    "\n",
    "\n",
    "\n",
    "\n",
    "\n",
    "with PdfPages(f'#3_DBR_{N_pairs}.pdf') as pdf:\n",
    "    E_left =0\n",
    "    B_right=0\n",
    "    for n in range(0, Nt): # 1:Nmax time steps\n",
    "        \n",
    "        # capturing the of reflection and transmission amplitudes\n",
    "        E_ref_probe[n] = E[ref_probe] \n",
    "        E_trans_probe[n] = E[trans_probe]\n",
    "        \n",
    "        \n",
    "        temp = E[1] # for the left side of the grid\n",
    "        for k in range (1,Nz): # 2:last\n",
    "            const1 = (1-(sigma*dt)/(2*epsilon_0*epsilon_r[k]))\n",
    "            const2 = (1+(sigma*dt)/(2*epsilon_0*epsilon_r[k]))\n",
    "            \n",
    "            E[k] = (const1* E[k] - (c0**2*dt)/(epsilon_r[k]*dz)*(B[k]-B[k-1]))/const2  \n",
    "            \n",
    "        E[source_pos] += E0*np.sin(omega*n*dt)\n",
    "        \n",
    "        E[0] = E_left\n",
    "        E_left = temp\n",
    "            \n",
    "        temp = B[-2] # for the right side of the grid\n",
    "        for k in range(0,Nz-1): # 1:last-1\n",
    "            B[k] = B[k] - dt/dz*(E[k+1] - E[k])\n",
    "        \n",
    "        B[-1] = B_right\n",
    "        B_right = temp\n",
    "            \n",
    "        \n",
    "        if n%100==0:\n",
    "            #creating a new figure\n",
    "            fig, axs = plt.subplots(3, 1, figsize=(8, 12))  # 3 rows, 1 column\n",
    "            \n",
    "            # Plot each array on a subplot\n",
    "            axs[0].plot(E, \"-k\", label=\"E-field\")\n",
    "            axs[0].set_title(f'For Dielectric Slab; At the timestep {n}')\n",
    "            axs[0].set_ylim(-4, 4)  # Optional: Set y-axis limits if needed\n",
    "            axs[0].axvline(x=ref_probe,color=\"r\")\n",
    "            axs[0].axvline(x=trans_probe,color=\"g\")\n",
    "            axs[0].axvline(x = source_pos, color= \"k\")\n",
    "            axs[0].grid(True)\n",
    "            \n",
    "            k_start = slabs_start\n",
    "            for N in range (1, N_pairs+1): # color the layers\n",
    "                axs[0].axvspan(k_start, k_start+8, color='b', alpha=0.4)\n",
    "                axs[0].axvspan(k_start+8, k_start+21, color='b', alpha=0.2)\n",
    "                k_start += 21\n",
    "            \n",
    "\n",
    "            axs[1].plot(E_ref_probe, color=\"r\")\n",
    "            axs[1].set_title(f'Reflection Amplitude E[{ref_probe}]; At timestep {n}')\n",
    "            axs[1].grid(True)\n",
    "            axs[1].set_ylim(-2.5,2.5)\n",
    "\n",
    "            axs[2].plot(E_trans_probe, color=\"g\")\n",
    "            axs[2].set_title(f'Transmission Amplitude E[{trans_probe}]; At timestep {n}')\n",
    "            axs[2].grid(True)\n",
    "            axs[2].set_ylim(-2.5, 2.5)\n",
    "        \n",
    "            plt.tight_layout()\n",
    "            pdf.savefig(fig)\n",
    "            plt.close(fig)  \n",
    "            "
   ]
  },
  {
   "cell_type": "code",
   "execution_count": 44,
   "metadata": {},
   "outputs": [
    {
     "data": {
      "text/plain": [
       "<matplotlib.legend.Legend at 0x16b72906df0>"
      ]
     },
     "execution_count": 44,
     "metadata": {},
     "output_type": "execute_result"
    },
    {
     "data": {
      "image/png": "[encoded data removed]",
      "text/plain": [
       "<Figure size 640x480 with 1 Axes>"
      ]
     },
     "metadata": {},
     "output_type": "display_data"
    }
   ],
   "source": [
    "# Extraction of Phase (and amplitude) - for REFLECTED PART ONLY\n",
    "\n",
    "amplitude = np.zeros(Nt)\n",
    "phase = np.zeros(Nt)\n",
    "\n",
    "for i in range (3000, 4500):\n",
    "    j = i+1\n",
    "    A = np.array([[np.sin(omega*j*dt), np.cos(omega*j*dt)], [np.sin(omega*i*dt), np.cos(omega*i*dt)]])\n",
    "    b = np.array([E_ref_probe[j], E_ref_probe[i]])\n",
    "    \n",
    "    x = np.linalg.solve(A, b)\n",
    "    \n",
    "    amplitude[i] = np.sqrt(x[0]**2+x[1]**2)\n",
    "    phase[i] = np.arctan(x[1]/x[0])\n",
    "    \n",
    "plt.plot(amplitude, label=\"amplitude\", linewidth =0.5)\n",
    "plt.plot(phase, label=\"phase (in radians)\", linewidth = 0.5)\n",
    "plt.grid()\n",
    "plt.title(\"Reflection Amplitude and Phase\")\n",
    "plt.legend()\n"
   ]
  },
  {
   "cell_type": "code",
   "execution_count": 45,
   "metadata": {},
   "outputs": [
    {
     "name": "stdout",
     "output_type": "stream",
     "text": [
      "For N=1, Reflectivity = 22.517540654824423%\n"
     ]
    }
   ],
   "source": [
    "# Calculation of the reflectivity\n",
    "# absolute reflected amplitude = interefered ampltitude - incident amplitude\n",
    "\n",
    "E_inc = 1 # E0\n",
    "E_ref = np.mean(amplitude[3000:4500])-E_inc\n",
    "\n",
    "R = (E_ref/E_inc)**2\n",
    "\n",
    "print(f\"For N={N_pairs}, Reflectivity = {R*100}%\")\n",
    "\n"
   ]
  },
  {
   "cell_type": "code",
   "execution_count": null,
   "metadata": {},
   "outputs": [],
   "source": []
  },
  {
   "cell_type": "code",
   "execution_count": null,
   "metadata": {},
   "outputs": [],
   "source": []
  },
  {
   "cell_type": "code",
   "execution_count": 46,
   "metadata": {},
   "outputs": [],
   "source": [
    "# Extraction of Phase (and amplitude) - for TRANSMITTED PART ONLY\n",
    "\n",
    "# amplitude = np.zeros(Nt)\n",
    "# phase = np.zeros(Nt)\n",
    "\n",
    "# for i in range (2000, 4500):\n",
    "#     j = i+1\n",
    "#     A = np.array([[np.sin(omega*j*dt), np.cos(omega*j*dt)], [np.sin(omega*i*dt), np.cos(omega*i*dt)]])\n",
    "#     b = np.array([E_trans_probe[j], E_trans_probe[i]])\n",
    "    \n",
    "#     x = np.linalg.solve(A, b)\n",
    "    \n",
    "#     amplitude[i] = np.sqrt(x[0]**2+x[1]**2)\n",
    "#     phase[i] = np.arctan(x[1]/x[0])\n",
    "    \n",
    "# plt.plot(amplitude, label=\"amplitude\", linewidth =0.5)\n",
    "# plt.plot(phase, label=\"phase (in radians)\", linewidth = 0.5)\n",
    "# plt.grid()\n",
    "# plt.title(\"Transmission Amplitude and Phase\")\n",
    "# plt.legend()\n"
   ]
  }
 ],
 "metadata": {
  "kernelspec": {
   "display_name": "Python 3",
   "language": "python",
   "name": "python3"
  },
  "language_info": {
   "codemirror_mode": {
    "name": "ipython",
    "version": 3
   },
   "file_extension": ".py",
   "mimetype": "text/x-python",
   "name": "python",
   "nbconvert_exporter": "python",
   "pygments_lexer": "ipython3",
   "version": "3.8.19"
  }
 },
 "nbformat": 4,
 "nbformat_minor": 2
}
